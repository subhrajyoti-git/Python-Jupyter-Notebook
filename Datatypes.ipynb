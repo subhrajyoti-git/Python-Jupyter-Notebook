{
 "cells": [
  {
   "cell_type": "markdown",
   "id": "3703aaaa",
   "metadata": {},
   "source": [
    "### Python strings"
   ]
  },
  {
   "cell_type": "code",
   "execution_count": 1,
   "id": "71a86a3f",
   "metadata": {},
   "outputs": [
    {
     "name": "stdout",
     "output_type": "stream",
     "text": [
      "Hello World\n"
     ]
    }
   ],
   "source": [
    "print ('Hello World')"
   ]
  },
  {
   "cell_type": "code",
   "execution_count": 10,
   "id": "b04f3c68",
   "metadata": {},
   "outputs": [],
   "source": [
    "a = 'Subhro'"
   ]
  },
  {
   "cell_type": "code",
   "execution_count": 3,
   "id": "89be9638",
   "metadata": {},
   "outputs": [
    {
     "data": {
      "text/plain": [
       "'Subhro'"
      ]
     },
     "execution_count": 3,
     "metadata": {},
     "output_type": "execute_result"
    }
   ],
   "source": [
    "a"
   ]
  },
  {
   "cell_type": "code",
   "execution_count": 8,
   "id": "2b54c152",
   "metadata": {},
   "outputs": [],
   "source": [
    "b = 10\n"
   ]
  },
  {
   "cell_type": "code",
   "execution_count": 11,
   "id": "8155c53a",
   "metadata": {},
   "outputs": [
    {
     "name": "stdout",
     "output_type": "stream",
     "text": [
      "My name is  Subhro  and my rank is  10\n"
     ]
    }
   ],
   "source": [
    "print (\"My name is \",a,\" and my rank is \",b)"
   ]
  },
  {
   "cell_type": "code",
   "execution_count": 14,
   "id": "984bb1f3",
   "metadata": {},
   "outputs": [
    {
     "name": "stdout",
     "output_type": "stream",
     "text": [
      "My name is Subhro and my rank is 10\n"
     ]
    }
   ],
   "source": [
    "print (\"My name is \"+a+\" and my rank is \"+ str(b))"
   ]
  },
  {
   "cell_type": "code",
   "execution_count": 15,
   "id": "9f2fd45c",
   "metadata": {},
   "outputs": [
    {
     "name": "stdout",
     "output_type": "stream",
     "text": [
      "My name is Subhro and my rank is 10\n"
     ]
    }
   ],
   "source": [
    "print (\"My name is {} and my rank is {}\".format(a,b))"
   ]
  },
  {
   "cell_type": "markdown",
   "id": "777f1cb4",
   "metadata": {},
   "source": [
    "### List (works like array)"
   ]
  },
  {
   "cell_type": "code",
   "execution_count": 16,
   "id": "7cc6c556",
   "metadata": {},
   "outputs": [],
   "source": [
    "L1 = [100,500,200,'kkkk','ssss']"
   ]
  },
  {
   "cell_type": "code",
   "execution_count": 17,
   "id": "27aeb338",
   "metadata": {},
   "outputs": [
    {
     "data": {
      "text/plain": [
       "[100, 500, 200, 'kkkk', 'ssss']"
      ]
     },
     "execution_count": 17,
     "metadata": {},
     "output_type": "execute_result"
    }
   ],
   "source": [
    "L1"
   ]
  },
  {
   "cell_type": "code",
   "execution_count": 18,
   "id": "3006782a",
   "metadata": {},
   "outputs": [
    {
     "data": {
      "text/plain": [
       "100"
      ]
     },
     "execution_count": 18,
     "metadata": {},
     "output_type": "execute_result"
    }
   ],
   "source": [
    "L1[0]"
   ]
  },
  {
   "cell_type": "code",
   "execution_count": 19,
   "id": "768eb243",
   "metadata": {},
   "outputs": [
    {
     "name": "stdout",
     "output_type": "stream",
     "text": [
      "kkkk\n"
     ]
    }
   ],
   "source": [
    "print ( L1[3] )"
   ]
  },
  {
   "cell_type": "code",
   "execution_count": 20,
   "id": "525c375f",
   "metadata": {},
   "outputs": [],
   "source": [
    "L1.append(\"test\")"
   ]
  },
  {
   "cell_type": "code",
   "execution_count": 21,
   "id": "82e00e4d",
   "metadata": {},
   "outputs": [
    {
     "data": {
      "text/plain": [
       "[100, 500, 200, 'kkkk', 'ssss', 'test']"
      ]
     },
     "execution_count": 21,
     "metadata": {},
     "output_type": "execute_result"
    }
   ],
   "source": [
    "L1"
   ]
  },
  {
   "cell_type": "code",
   "execution_count": 22,
   "id": "32a87928",
   "metadata": {},
   "outputs": [],
   "source": [
    "L1[2]=400"
   ]
  },
  {
   "cell_type": "code",
   "execution_count": 23,
   "id": "9ad929de",
   "metadata": {},
   "outputs": [
    {
     "data": {
      "text/plain": [
       "[100, 500, 400, 'kkkk', 'ssss', 'test']"
      ]
     },
     "execution_count": 23,
     "metadata": {},
     "output_type": "execute_result"
    }
   ],
   "source": [
    "L1"
   ]
  },
  {
   "cell_type": "code",
   "execution_count": 24,
   "id": "9df395fa",
   "metadata": {},
   "outputs": [
    {
     "data": {
      "text/plain": [
       "'ssss'"
      ]
     },
     "execution_count": 24,
     "metadata": {},
     "output_type": "execute_result"
    }
   ],
   "source": [
    "L1[-2]"
   ]
  },
  {
   "cell_type": "code",
   "execution_count": 25,
   "id": "8ff03c1e",
   "metadata": {},
   "outputs": [
    {
     "data": {
      "text/plain": [
       "[400, 'kkkk']"
      ]
     },
     "execution_count": 25,
     "metadata": {},
     "output_type": "execute_result"
    }
   ],
   "source": [
    "L1[2:4]"
   ]
  },
  {
   "cell_type": "markdown",
   "id": "44e37c03",
   "metadata": {},
   "source": [
    "### Dictionary (key value pair)"
   ]
  },
  {
   "cell_type": "code",
   "execution_count": 28,
   "id": "8c8dad00",
   "metadata": {},
   "outputs": [
    {
     "data": {
      "text/plain": [
       "{'k1': 'v1', 'k2': 'v2', 'k3': 'v3', 'k4': 'v4', 'k5': 'v5'}"
      ]
     },
     "execution_count": 28,
     "metadata": {},
     "output_type": "execute_result"
    }
   ],
   "source": [
    "d1 = {'k1':'v1','k2':'v2','k3':'v3','k4':'v4','k5':'v5'}\n",
    "d1"
   ]
  },
  {
   "cell_type": "code",
   "execution_count": 30,
   "id": "c017346c",
   "metadata": {},
   "outputs": [
    {
     "data": {
      "text/plain": [
       "'v3'"
      ]
     },
     "execution_count": 30,
     "metadata": {},
     "output_type": "execute_result"
    }
   ],
   "source": [
    "d1['k3']"
   ]
  },
  {
   "cell_type": "markdown",
   "id": "2f13c3fe",
   "metadata": {},
   "source": [
    "### Boolean (only true/false value)"
   ]
  },
  {
   "cell_type": "code",
   "execution_count": 32,
   "id": "c7ad70b6",
   "metadata": {},
   "outputs": [
    {
     "data": {
      "text/plain": [
       "False"
      ]
     },
     "execution_count": 32,
     "metadata": {},
     "output_type": "execute_result"
    }
   ],
   "source": [
    "True\n",
    "False"
   ]
  },
  {
   "cell_type": "code",
   "execution_count": 33,
   "id": "e0685a37",
   "metadata": {},
   "outputs": [
    {
     "data": {
      "text/plain": [
       "True"
      ]
     },
     "execution_count": 33,
     "metadata": {},
     "output_type": "execute_result"
    }
   ],
   "source": [
    "True"
   ]
  },
  {
   "cell_type": "markdown",
   "id": "990b5e66",
   "metadata": {},
   "source": [
    "### Tuple (can not be edited)"
   ]
  },
  {
   "cell_type": "code",
   "execution_count": 35,
   "id": "80593d9f",
   "metadata": {},
   "outputs": [
    {
     "data": {
      "text/plain": [
       "(10, 30, 60, 20)"
      ]
     },
     "execution_count": 35,
     "metadata": {},
     "output_type": "execute_result"
    }
   ],
   "source": [
    "t1 = (10,30,60,20)\n",
    "t1"
   ]
  },
  {
   "cell_type": "code",
   "execution_count": 36,
   "id": "ca51db70",
   "metadata": {},
   "outputs": [
    {
     "data": {
      "text/plain": [
       "30"
      ]
     },
     "execution_count": 36,
     "metadata": {},
     "output_type": "execute_result"
    }
   ],
   "source": [
    "t1[1]"
   ]
  },
  {
   "cell_type": "markdown",
   "id": "715e90f5",
   "metadata": {},
   "source": [
    "### Set (prints only unique values)"
   ]
  },
  {
   "cell_type": "code",
   "execution_count": 39,
   "id": "f00a8c75",
   "metadata": {},
   "outputs": [
    {
     "data": {
      "text/plain": [
       "{'a', 'b', 'c'}"
      ]
     },
     "execution_count": 39,
     "metadata": {},
     "output_type": "execute_result"
    }
   ],
   "source": [
    "s1 = {'a','a','a','a','a','b','b','b','b','b','c','c','c','c','c'}\n",
    "s1"
   ]
  },
  {
   "cell_type": "code",
   "execution_count": null,
   "id": "b3081170",
   "metadata": {},
   "outputs": [],
   "source": []
  }
 ],
 "metadata": {
  "kernelspec": {
   "display_name": "Python 3 (ipykernel)",
   "language": "python",
   "name": "python3"
  },
  "language_info": {
   "codemirror_mode": {
    "name": "ipython",
    "version": 3
   },
   "file_extension": ".py",
   "mimetype": "text/x-python",
   "name": "python",
   "nbconvert_exporter": "python",
   "pygments_lexer": "ipython3",
   "version": "3.8.5"
  }
 },
 "nbformat": 4,
 "nbformat_minor": 5
}
