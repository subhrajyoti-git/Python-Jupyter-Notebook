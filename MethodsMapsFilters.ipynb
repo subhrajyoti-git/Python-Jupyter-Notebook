{
 "cells": [
  {
   "cell_type": "markdown",
   "id": "c96df9f7",
   "metadata": {},
   "source": [
    "### List Use"
   ]
  },
  {
   "cell_type": "code",
   "execution_count": 6,
   "id": "010b0d95",
   "metadata": {},
   "outputs": [
    {
     "data": {
      "text/plain": [
       "[4, 16, 36, 64, 100]"
      ]
     },
     "execution_count": 6,
     "metadata": {},
     "output_type": "execute_result"
    }
   ],
   "source": [
    "outList = []\n",
    "inList = [2,4,6,8,10]\n",
    "\n",
    "for i in inList:\n",
    "    outList.append(i*i)\n",
    "\n",
    "outList"
   ]
  },
  {
   "cell_type": "markdown",
   "id": "dd4175b1",
   "metadata": {},
   "source": [
    "### Function"
   ]
  },
  {
   "cell_type": "code",
   "execution_count": 19,
   "id": "adf2e67a",
   "metadata": {},
   "outputs": [
    {
     "name": "stdout",
     "output_type": "stream",
     "text": [
      "Enter an integer: 8\n",
      "Square of number 8 is:  64\n"
     ]
    }
   ],
   "source": [
    "def square(i):\n",
    "    return i*i\n",
    "\n",
    "num = int(input(\"Enter an integer: \"))\n",
    "print(\"Square of number\",num,\"is: \",square(num))\n"
   ]
  },
  {
   "cell_type": "markdown",
   "id": "37ca5074",
   "metadata": {},
   "source": [
    "### Take 2 lists of same size as input from user and add corresponding elements of those lists"
   ]
  },
  {
   "cell_type": "code",
   "execution_count": 48,
   "id": "bb85ac94",
   "metadata": {},
   "outputs": [
    {
     "name": "stdout",
     "output_type": "stream",
     "text": [
      "How many elements in each list:5\n",
      "Please provide 5 integers for the first list:\n",
      "Input element:1\n",
      "Input element:2\n",
      "Input element:3\n",
      "Input element:4\n",
      "Input element:5\n",
      "Please provide 5 integers for the second list:\n",
      "Input element:6\n",
      "Input element:7\n",
      "Input element:8\n",
      "Input element:9\n",
      "Input element:0\n",
      "===OUTPUT===\n"
     ]
    },
    {
     "data": {
      "text/plain": [
       "[7, 9, 11, 13, 5]"
      ]
     },
     "execution_count": 48,
     "metadata": {},
     "output_type": "execute_result"
    }
   ],
   "source": [
    "def ListInput(x):\n",
    "    Lst = []\n",
    "    cnt = 1\n",
    "    while cnt <= x:\n",
    "        inp=int(input(\"Input element:\"))\n",
    "        Lst.append(inp)\n",
    "        cnt = cnt + 1\n",
    "    return Lst\n",
    "        \n",
    "def AdditionList(x,y,z):\n",
    "    lst = []\n",
    "    cnt = 0\n",
    "    while cnt < z:\n",
    "        e = x[cnt] + y[cnt]\n",
    "        lst.append(e)\n",
    "        cnt = cnt + 1\n",
    "    return lst\n",
    "    \n",
    "    \n",
    "elements = int(input(\"How many elements in each list:\"))\n",
    "print(\"Please provide\",elements,\"integers for the first list:\")\n",
    "Lst1 = ListInput(elements)\n",
    "print(\"Please provide\",elements,\"integers for the second list:\")\n",
    "Lst2 = ListInput(elements)\n",
    "Lst3 = AdditionList(Lst1,Lst2,elements)\n",
    "print(\"===OUTPUT===\")\n",
    "Lst3\n"
   ]
  },
  {
   "cell_type": "markdown",
   "id": "19653a81",
   "metadata": {},
   "source": [
    "### Lambda"
   ]
  },
  {
   "cell_type": "code",
   "execution_count": 51,
   "id": "1ea36687",
   "metadata": {},
   "outputs": [],
   "source": [
    "y=lambda x:x**2"
   ]
  },
  {
   "cell_type": "code",
   "execution_count": 52,
   "id": "890d3666",
   "metadata": {},
   "outputs": [
    {
     "data": {
      "text/plain": [
       "400"
      ]
     },
     "execution_count": 52,
     "metadata": {},
     "output_type": "execute_result"
    }
   ],
   "source": [
    "y(20)"
   ]
  },
  {
   "cell_type": "markdown",
   "id": "46050e83",
   "metadata": {},
   "source": [
    "### Map & Filter"
   ]
  },
  {
   "cell_type": "code",
   "execution_count": 53,
   "id": "00cd7287",
   "metadata": {},
   "outputs": [],
   "source": [
    "def square(i):\n",
    "    return i*i"
   ]
  },
  {
   "cell_type": "code",
   "execution_count": 60,
   "id": "87696438",
   "metadata": {},
   "outputs": [
    {
     "data": {
      "text/plain": [
       "[4, 16, 36, 64]"
      ]
     },
     "execution_count": 60,
     "metadata": {},
     "output_type": "execute_result"
    }
   ],
   "source": [
    "lst = [2,4,6,8]\n",
    "list(map(square,lst))"
   ]
  },
  {
   "cell_type": "code",
   "execution_count": 61,
   "id": "c95b1088",
   "metadata": {},
   "outputs": [
    {
     "data": {
      "text/plain": [
       "[4, 16, 36, 64]"
      ]
     },
     "execution_count": 61,
     "metadata": {},
     "output_type": "execute_result"
    }
   ],
   "source": [
    "list(map(lambda x: x**2,lst))"
   ]
  },
  {
   "cell_type": "markdown",
   "id": "5f32ed82",
   "metadata": {},
   "source": [
    "### Filters"
   ]
  },
  {
   "cell_type": "code",
   "execution_count": 64,
   "id": "7d8b633e",
   "metadata": {},
   "outputs": [
    {
     "data": {
      "text/plain": [
       "[2, 6, 10]"
      ]
     },
     "execution_count": 64,
     "metadata": {},
     "output_type": "execute_result"
    }
   ],
   "source": [
    "lst = [2,3,6,9,10]\n",
    "list(filter(lambda x: x%2==0,lst))          #finding even elements"
   ]
  },
  {
   "cell_type": "markdown",
   "id": "f1bc77ad",
   "metadata": {},
   "source": [
    "### String methods"
   ]
  },
  {
   "cell_type": "code",
   "execution_count": 65,
   "id": "0e326438",
   "metadata": {},
   "outputs": [],
   "source": [
    "st = \"The sky is blue\""
   ]
  },
  {
   "cell_type": "code",
   "execution_count": 66,
   "id": "e92cca71",
   "metadata": {},
   "outputs": [
    {
     "data": {
      "text/plain": [
       "'THE SKY IS BLUE'"
      ]
     },
     "execution_count": 66,
     "metadata": {},
     "output_type": "execute_result"
    }
   ],
   "source": [
    "st.upper()"
   ]
  },
  {
   "cell_type": "code",
   "execution_count": 67,
   "id": "972af845",
   "metadata": {},
   "outputs": [
    {
     "data": {
      "text/plain": [
       "'the sky is blue'"
      ]
     },
     "execution_count": 67,
     "metadata": {},
     "output_type": "execute_result"
    }
   ],
   "source": [
    "st.lower()"
   ]
  },
  {
   "cell_type": "code",
   "execution_count": 68,
   "id": "bc297687",
   "metadata": {},
   "outputs": [
    {
     "data": {
      "text/plain": [
       "['The', 'sky', 'is', 'blue']"
      ]
     },
     "execution_count": 68,
     "metadata": {},
     "output_type": "execute_result"
    }
   ],
   "source": [
    "st.split()"
   ]
  },
  {
   "cell_type": "code",
   "execution_count": 69,
   "id": "08c4c0a2",
   "metadata": {},
   "outputs": [
    {
     "data": {
      "text/plain": [
       "['The sky ', ' blue']"
      ]
     },
     "execution_count": 69,
     "metadata": {},
     "output_type": "execute_result"
    }
   ],
   "source": [
    "st.split('is')"
   ]
  },
  {
   "cell_type": "code",
   "execution_count": 79,
   "id": "8f0c5873",
   "metadata": {},
   "outputs": [
    {
     "data": {
      "text/plain": [
       "['The', 'sky', 'is', 'blue']"
      ]
     },
     "execution_count": 79,
     "metadata": {},
     "output_type": "execute_result"
    }
   ],
   "source": [
    "lst = st.split()\n",
    "lst"
   ]
  },
  {
   "cell_type": "code",
   "execution_count": 80,
   "id": "c9fdf2ca",
   "metadata": {},
   "outputs": [
    {
     "data": {
      "text/plain": [
       "'blue'"
      ]
     },
     "execution_count": 80,
     "metadata": {},
     "output_type": "execute_result"
    }
   ],
   "source": [
    "lst.pop()"
   ]
  },
  {
   "cell_type": "code",
   "execution_count": 81,
   "id": "8dfe1185",
   "metadata": {},
   "outputs": [
    {
     "data": {
      "text/plain": [
       "['The', 'sky', 'is']"
      ]
     },
     "execution_count": 81,
     "metadata": {},
     "output_type": "execute_result"
    }
   ],
   "source": [
    "lst"
   ]
  },
  {
   "cell_type": "code",
   "execution_count": 82,
   "id": "210b625b",
   "metadata": {},
   "outputs": [
    {
     "data": {
      "text/plain": [
       "['The', 'sky', 'is', 'beautiful']"
      ]
     },
     "execution_count": 82,
     "metadata": {},
     "output_type": "execute_result"
    }
   ],
   "source": [
    "lst.append('beautiful')\n",
    "lst"
   ]
  },
  {
   "cell_type": "code",
   "execution_count": null,
   "id": "157bebbe",
   "metadata": {},
   "outputs": [],
   "source": []
  }
 ],
 "metadata": {
  "kernelspec": {
   "display_name": "Python 3 (ipykernel)",
   "language": "python",
   "name": "python3"
  },
  "language_info": {
   "codemirror_mode": {
    "name": "ipython",
    "version": 3
   },
   "file_extension": ".py",
   "mimetype": "text/x-python",
   "name": "python",
   "nbconvert_exporter": "python",
   "pygments_lexer": "ipython3",
   "version": "3.8.5"
  }
 },
 "nbformat": 4,
 "nbformat_minor": 5
}
